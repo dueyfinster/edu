{
 "cells": [
  {
   "cell_type": "markdown",
   "metadata": {},
   "source": [
    "#MSc in Computing (Negotiated Learning) \n",
    "#Practicum Team Software Project Option\n",
    "#Introduction To Text Analytics Using Python & NLTK"
   ]
  },
  {
   "cell_type": "markdown",
   "metadata": {},
   "source": [
    "#Using iPython Notebook"
   ]
  },
  {
   "cell_type": "markdown",
   "metadata": {},
   "source": [
    "The IPython Notebook is an interactive computational environment, in which you can combine code execution, rich text, mathematics, plots and rich media (http://ipython.org/notebook.html). An iPython notebook is brillient for exploratory development of the kind you are likely to do a ,lot of in this project. It is **NOT** good, however, for a deployable system so you should plan to migrate your code for deployment.\n",
    "\n",
    "The easiest way to install iPython notebooks is using Anaconda, downloadable from http://ipython.org/install.html.\n",
    "\n",
    "Often we will need to add extra packages to the iPython distribution. We can do this using the conda command line tool. This is avialble from the folder in which you installed anaconda (likely C:\\anaconda). Use the following line to install the package **matplotlib**:\n",
    "\n",
    "**conda install matplotlib**"
   ]
  },
  {
   "cell_type": "markdown",
   "metadata": {},
   "source": [
    "##An Introduction To NLTK"
   ]
  },
  {
   "cell_type": "markdown",
   "metadata": {},
   "source": [
    "The **Natural Language Toolkit**, **NLTK** (http://www.nltk.org/), is a well written, widely used, and well respected toolkit for perofmring natural langueg processing in Python. It offers a wide range of useful functionality and data structres that make text natural langueg processing, and so text analytics, much easier. Features included in the NLTK include corpus management, document classification, colocation discoverym, part of speech tagging, parsing, and chunking. The best reference for the NLTK is the **NLTK Book**, Natural Language Processing with Python – Analyzing Text with the Natural Language Toolkit by Steven Bird, Ewan Klein, and Edward Loper, which is freely avialble online at http://www.nltk.org/book/ or for sale at http://www.amazon.co.uk/Natural-Language-Processing-Python-Steven/dp/0596516495. Many of the examples in this tutorial are taken from this book."
   ]
  },
  {
   "cell_type": "markdown",
   "metadata": {},
   "source": [
    "##Import Packages"
   ]
  },
  {
   "cell_type": "markdown",
   "metadata": {},
   "source": [
    "Import a set of packages that we will use in order to perform text analysis. These are very commonly used Python packages."
   ]
  },
  {
   "cell_type": "code",
   "execution_count": 1,
   "metadata": {
    "collapsed": false
   },
   "outputs": [],
   "source": [
    "import nltk # The best known Python natural language processing toolkit\n",
    "from nltk import FreqDist # Explicitlty import the FreqDist function from NLTK\n",
    "import numpy # Package for scientific computing\n",
    "import matplotlib # Python plotting library\n",
    "import matplotlib.pyplot as plt # Easy syntax access to pyplot\n",
    "import re # functions fior dealing with regular expressions\n",
    "import feedparser # For reading RSS feeds - imstnall using ./conda install feedparser\n",
    "import urllib2 # for accessing URLs\n",
    "from bs4 import BeautifulSoup # For parsing HTML documents\n",
    "\n",
    "# Tells iPython notebook to draw graphic sinline in the webpage\n",
    "%matplotlib inline \n",
    "\n",
    "# Ensure that we import later version of division so that we default to floating point division.\n",
    "from __future__ import division"
   ]
  },
  {
   "cell_type": "markdown",
   "metadata": {},
   "source": [
    "Occasionally we need to install bits and pieces (e.g. corpora) from the NLTK. To do this uncommment and run the code below which will launch the interactive NLTK downloader. "
   ]
  },
  {
   "cell_type": "code",
   "execution_count": null,
   "metadata": {
    "collapsed": false
   },
   "outputs": [],
   "source": [
    "# Uncomment this in order to launch the NLTK downloader to access corpora, packages etc\n",
    "nltk.download()"
   ]
  },
  {
   "cell_type": "markdown",
   "metadata": {},
   "source": [
    "##Load An NLTK Built-In Corpus"
   ]
  },
  {
   "cell_type": "code",
   "execution_count": 3,
   "metadata": {
    "collapsed": false
   },
   "outputs": [
    {
     "data": {
      "text/plain": [
       "[u'austen-emma.txt',\n",
       " u'austen-persuasion.txt',\n",
       " u'austen-sense.txt',\n",
       " u'bible-kjv.txt',\n",
       " u'blake-poems.txt',\n",
       " u'bryant-stories.txt',\n",
       " u'burgess-busterbrown.txt',\n",
       " u'carroll-alice.txt',\n",
       " u'chesterton-ball.txt',\n",
       " u'chesterton-brown.txt',\n",
       " u'chesterton-thursday.txt',\n",
       " u'edgeworth-parents.txt',\n",
       " u'melville-moby_dick.txt',\n",
       " u'milton-paradise.txt',\n",
       " u'shakespeare-caesar.txt',\n",
       " u'shakespeare-hamlet.txt',\n",
       " u'shakespeare-macbeth.txt',\n",
       " u'whitman-leaves.txt']"
      ]
     },
     "execution_count": 3,
     "metadata": {},
     "output_type": "execute_result"
    }
   ],
   "source": [
    "nltk.corpus.gutenberg.fileids()"
   ]
  },
  {
   "cell_type": "markdown",
   "metadata": {},
   "source": [
    "#Find Text Within a Corpus"
   ]
  },
  {
   "cell_type": "markdown",
   "metadata": {},
   "source": [
    "A concordance returns a set of sentences that include a search term or terms. We first create an NLTK text object that we can manipulate."
   ]
  },
  {
   "cell_type": "code",
   "execution_count": 4,
   "metadata": {
    "collapsed": false
   },
   "outputs": [],
   "source": [
    "hamlet = nltk.Text(nltk.corpus.gutenberg.words('shakespeare-hamlet.txt'))"
   ]
  },
  {
   "cell_type": "markdown",
   "metadata": {},
   "source": [
    "Using the NLTK **concordance** function we can generate a set of setences containing a chose word."
   ]
  },
  {
   "cell_type": "code",
   "execution_count": 5,
   "metadata": {
    "collapsed": false
   },
   "outputs": [
    {
     "name": "stdout",
     "output_type": "stream",
     "text": [
      "Displaying 3 of 3 matches:\n",
      "hus I did bespeake Lord Hamlet is a Prince out of thy Starre , This must not b\n",
      "cke a Noble heart : Goodnight sweet Prince , And flights of Angels sing thee t\n",
      " . FINIS . The tragedie of HAMLET , Prince of Denmarke .\n"
     ]
    }
   ],
   "source": [
    "hamlet.concordance(\"prince\")"
   ]
  },
  {
   "cell_type": "markdown",
   "metadata": {},
   "source": [
    "We can generate a text object containing all of the texts in our corpus and generate a concordance from this."
   ]
  },
  {
   "cell_type": "code",
   "execution_count": null,
   "metadata": {
    "collapsed": false,
    "scrolled": true
   },
   "outputs": [],
   "source": [
    "allText = nltk.Text(nltk.corpus.gutenberg.words())\n",
    "allText.concordance('sandwich')"
   ]
  },
  {
   "cell_type": "markdown",
   "metadata": {},
   "source": [
    "**EXERCISE:** Genrate a concordance of the occurences of the word *whale* in *Moby Dick* and the word *computer* in the overall gutenburg corpus. "
   ]
  },
  {
   "cell_type": "markdown",
   "metadata": {},
   "source": [
    "A **dispersion plot** is a fun data visualsiation supported by NLTK that shows us where in a text words appear. It is generated using the **dispersion_plot** function."
   ]
  },
  {
   "cell_type": "code",
   "execution_count": null,
   "metadata": {
    "collapsed": false
   },
   "outputs": [],
   "source": [
    "hamlet.dispersion_plot([\"Hamlet\", \"Horatio\", \"Ophelia\", \"Fortinbras\", \"Yorick\"])"
   ]
  },
  {
   "cell_type": "markdown",
   "metadata": {},
   "source": [
    "A more powerful way that we can find text within a corpus is to use **regular expressions**. Regular expressions are a powerful way to define textual patterns that allow us find interesting things within a document. First just find all words engin in \"ings\"."
   ]
  },
  {
   "cell_type": "code",
   "execution_count": 58,
   "metadata": {
    "collapsed": false,
    "scrolled": false
   },
   "outputs": [
    {
     "data": {
      "text/plain": [
       "['strings',\n",
       " 'Sings',\n",
       " 'Mornings',\n",
       " 'nothings',\n",
       " 'commings',\n",
       " 'Vndertakings',\n",
       " 'things',\n",
       " 'droppings',\n",
       " 'pratlings',\n",
       " 'wings',\n",
       " 'concernings',\n",
       " 'Groundlings',\n",
       " 'sings',\n",
       " 'Greetings',\n",
       " 'Things',\n",
       " 'stockings',\n",
       " 'Kings',\n",
       " 'Slings',\n",
       " 'Trappings',\n",
       " 'springs']"
      ]
     },
     "execution_count": 58,
     "metadata": {},
     "output_type": "execute_result"
    }
   ],
   "source": [
    "list(set([w for w in hamlet if re.search('ings$', w)]))"
   ]
  },
  {
   "cell_type": "markdown",
   "metadata": {},
   "source": [
    "This is some nice Python code to iterate through all the words in our hamlet list, and to add those that match our regular expression to a new list. Python is great for this type of stuff!"
   ]
  },
  {
   "cell_type": "markdown",
   "metadata": {},
   "source": [
    "In the next example we consider a Hamlet-based crossword puzzle in which we we need to find a word that matches this pattern: _ _ m _ _ t "
   ]
  },
  {
   "cell_type": "code",
   "execution_count": 59,
   "metadata": {
    "collapsed": false
   },
   "outputs": [
    {
     "data": {
      "text/plain": [
       "['lament',\n",
       " 'Almost',\n",
       " 'Hamlet',\n",
       " 'almost',\n",
       " 'moment',\n",
       " 'Somnet',\n",
       " 'Vnmixt',\n",
       " 'inmost',\n",
       " 'sement']"
      ]
     },
     "execution_count": 59,
     "metadata": {},
     "output_type": "execute_result"
    }
   ],
   "source": [
    " list(set([w for w in hamlet if re.search('^..m..t$', w)]))"
   ]
  },
  {
   "cell_type": "markdown",
   "metadata": {},
   "source": [
    "There is tonnes that you can do with regular expressions - find dates, find phone numbers, find matches for types of words, find pattrerns across multiple words .... The basic operators for definining regular expressions are as follows.\n",
    "\n",
    "Operator | Behavior\n",
    "----------|------------\n",
    ". |\tWildcard, matches any character\n",
    "^abc |\tMatches some pattern abc at the start of a string\n",
    "abc\\$ |\tMatches some pattern abc at the end of a string\n",
    "[abc] |\tMatches one of a set of characters\n",
    "[A-Z0-9] |\tMatches one of a range of characters\n",
    "ed $\\mid$ ing $\\mid$ s |\tMatches one of the specified strings (disjunction)\n",
    "* |\tZero or more of previous item, e.g. a*, [a-z]* (also known as Kleene Closure)\n",
    "+ |\tOne or more of previous item, e.g. a+, [a-z]+\n",
    "? |\tZero or one of the previous item (i.e. optional), e.g. a?, [a-z]?\n",
    "{n} |\tExactly n repeats where n is a non-negative integer\n",
    "{n,} |\tAt least n repeats\n",
    "{,n} |\tNo more than n repeats\n",
    "{m,n} |\tAt least m and no more than n repeats\n",
    "a(b $\\mid$ c)+ |\tParentheses that indicate the scope of the operators"
   ]
  },
  {
   "cell_type": "markdown",
   "metadata": {},
   "source": [
    "**EXERCISE:** Load the corpus of American presedential inaugural addresses, nltk.corpus.inaugural, and find all mentions of *America*, *freedom*, and *war*."
   ]
  },
  {
   "cell_type": "markdown",
   "metadata": {},
   "source": [
    "##Counting Vocabulary"
   ]
  },
  {
   "cell_type": "markdown",
   "metadata": {},
   "source": [
    "Counting vocabulary is a really important thing to do in text, and we can do it easily in Python with NLTK. First, let's get the number of words in Hamlet."
   ]
  },
  {
   "cell_type": "code",
   "execution_count": 60,
   "metadata": {
    "collapsed": false
   },
   "outputs": [
    {
     "data": {
      "text/plain": [
       "37360"
      ]
     },
     "execution_count": 60,
     "metadata": {},
     "output_type": "execute_result"
    }
   ],
   "source": [
    "len(hamlet)"
   ]
  },
  {
   "cell_type": "markdown",
   "metadata": {},
   "source": [
    "Let's extract the number of unique words - converting from a Python **list** to a Python **set** does this!"
   ]
  },
  {
   "cell_type": "code",
   "execution_count": 61,
   "metadata": {
    "collapsed": false,
    "scrolled": true
   },
   "outputs": [
    {
     "data": {
      "text/plain": [
       "5447"
      ]
     },
     "execution_count": 61,
     "metadata": {},
     "output_type": "execute_result"
    }
   ],
   "source": [
    "len(set(hamlet))"
   ]
  },
  {
   "cell_type": "markdown",
   "metadata": {},
   "source": [
    "**Lexical diversity** is a technique used to measure how complicated a text is. It is just the ratio of unique words to total words. Higher values indicate more complicated texts."
   ]
  },
  {
   "cell_type": "code",
   "execution_count": 62,
   "metadata": {
    "collapsed": false,
    "scrolled": true
   },
   "outputs": [
    {
     "data": {
      "text/plain": [
       "0.14579764453961455"
      ]
     },
     "execution_count": 62,
     "metadata": {},
     "output_type": "execute_result"
    }
   ],
   "source": [
    "len(set(hamlet))/len(hamlet)"
   ]
  },
  {
   "cell_type": "markdown",
   "metadata": {},
   "source": [
    "**EXERCISE:** Calculate the lexical diversity of *Moby Dick* and *Alice In Wonderland*."
   ]
  },
  {
   "cell_type": "markdown",
   "metadata": {},
   "source": [
    "We can easily define a lexical diversity function"
   ]
  },
  {
   "cell_type": "code",
   "execution_count": 63,
   "metadata": {
    "collapsed": false
   },
   "outputs": [
    {
     "data": {
      "text/plain": [
       "0.14579764453961455"
      ]
     },
     "execution_count": 63,
     "metadata": {},
     "output_type": "execute_result"
    }
   ],
   "source": [
    "# Define function to calcualte lexical diversity\n",
    "def lexical_diversity(text):\n",
    "    return len(set(text)) / len(text)\n",
    "\n",
    "# Use the newly defined function to claculate the lexical diversity of hamlet\n",
    "lexical_diversity(hamlet)"
   ]
  },
  {
   "cell_type": "markdown",
   "metadata": {},
   "source": [
    "Counting the **most frequently occuring words** in a text is one of the most common ways to analyse the meansing of a text. The NLTK makes this job very easy for us by allowing us to quickly generate a **frequency distribution** using the **FreqDist** function."
   ]
  },
  {
   "cell_type": "code",
   "execution_count": 64,
   "metadata": {
    "collapsed": false
   },
   "outputs": [
    {
     "name": "stdout",
     "output_type": "stream",
     "text": [
      "Lexical diversity: 0.283389830508\n",
      "<FreqDist: 'ham': 337, 'd': 223, 'lord': 211, 'haue': 178, 'king': 172, 'shall': 107, 'thou': 107, 'come': 104, 'let': 104, 'hamlet': 100, ...>\n",
      "100\n",
      "Frequency Hamlet: 100\n",
      "ham: 337\n",
      "d: 223\n",
      "lord: 211\n",
      "haue: 178\n",
      "king: 172\n",
      "shall: 107\n",
      "thou: 107\n",
      "come: 104\n",
      "let: 104\n",
      "hamlet: 100\n",
      "good: 98\n",
      "hor: 95\n",
      "thy: 90\n",
      "enter: 85\n",
      "oh: 81\n",
      "like: 80\n",
      "would: 73\n",
      "know: 71\n",
      "well: 71\n",
      "tis: 69\n",
      "selfe: 68\n"
     ]
    },
    {
     "data": {
      "image/png": "[encoded data removed]",
      "text/plain": [
       "<matplotlib.figure.Figure at 0x108f74690>"
      ]
     },
     "metadata": {},
     "output_type": "display_data"
    }
   ],
   "source": [
    "# convert all words to lower case\n",
    "hamlet = [w.lower() for w in hamlet]\n",
    "\n",
    "# Remove all punctuation from word lists - note the use of regular expressions!\n",
    "hamlet = [w for w in hamlet if not (re.match(r'^\\W+$', w) != None)]\n",
    "\n",
    "# Remove all stop words from word lists\n",
    "hamlet = [w for w in hamlet if not w in nltk.corpus.stopwords.words('english')]\n",
    "\n",
    "#print hamlet\n",
    "\n",
    "# Print revised lexical diversity\n",
    "print '{}{}'.format('Lexical diversity: ', lexical_diversity(hamlet))\n",
    "\n",
    "# Generate the frquency distribution for hamlet\n",
    "hamlet_freq_dist = FreqDist(hamlet)\n",
    "print hamlet_freq_dist\n",
    "\n",
    "# Print the number of occurences of the word hamlet\n",
    "print hamlet_freq_dist['hamlet']\n",
    "print '{}{}'.format('Frequency Hamlet: ', hamlet_freq_dist['hamlet'])\n",
    "\n",
    "# Print the top X words\n",
    "numWords = 0\n",
    "wordLimit = 20\n",
    "for w in hamlet_freq_dist.keys():\n",
    "    print '{}{}{}'.format(w, ': ', hamlet_freq_dist[w])\n",
    "    numWords = numWords + 1\n",
    "    if numWords > wordLimit:\n",
    "        break\n",
    "\n",
    "# Plot a nice graph of word frequencies\n",
    "hamlet_freq_dist.plot(wordLimit)"
   ]
  },
  {
   "cell_type": "markdown",
   "metadata": {},
   "source": [
    "We can also plot a word cloud from this frequency distribution (watch out for the path to the font used)."
   ]
  },
  {
   "cell_type": "code",
   "execution_count": 65,
   "metadata": {
    "collapsed": false
   },
   "outputs": [
    {
     "data": {
      "image/png": "[encoded data removed]",
      "text/plain": [
       "<matplotlib.figure.Figure at 0x116e20310>"
      ]
     },
     "metadata": {},
     "output_type": "display_data"
    }
   ],
   "source": [
    "wordcloud = WordCloud(font_path='/Library/Fonts/Comic Sans MS.ttf',\n",
    "                     stopwords=STOPWORDS,\n",
    "                      background_color='black',\n",
    "                      width=1800,\n",
    "                      height=1400\n",
    "                     ).generate(str(hamlet))\n",
    "\n",
    "\n",
    "plt.imshow(wordcloud)\n",
    "plt.axis('off')\n",
    "#matplotlib.savefig('./my_twitter_wordcloud_1.png', dpi=300)\n",
    "plt.show()"
   ]
  },
  {
   "cell_type": "markdown",
   "metadata": {},
   "source": [
    "Nice webpage explaining how to make word clouds from your Twitter feed: http://spartanideas.msu.edu/2014/11/28/turn-your-twitter-timeline-into-a-word-cloud-using-python/#A.-Downloading-Your-Twitter-Timeline-Tweets"
   ]
  },
  {
   "cell_type": "markdown",
   "metadata": {},
   "source": [
    "##Accessing Data From Other Places"
   ]
  },
  {
   "cell_type": "markdown",
   "metadata": {},
   "source": [
    "Accessing data from a text file is straightforward. "
   ]
  },
  {
   "cell_type": "code",
   "execution_count": 66,
   "metadata": {
    "collapsed": false
   },
   "outputs": [
    {
     "name": "stdout",
     "output_type": "stream",
     "text": [
      "This is a simple text file that we will use to demonstrate file hadnling in Python. We will also use it to show off how the NLTK tonkenisers can be used. We'll see that tekenisers are very useful. This is one last sentence for extra interest!! This was written by Dr. Brian Mac Namee.\n",
      "\n",
      "['This is a simple text file that we will use to demonstrate file hadnling in Python.', 'We will also use it to show off how the NLTK tonkenisers can be used.', \"We'll see that tekenisers are very useful.\", 'This is one last sentence for extra interest!!', 'This was written by Dr. Brian Mac Namee.']\n",
      "\n",
      "This is a simple text file that we will use to demonstrate file hadnling in Python.\n",
      "\n",
      "We will also use it to show off how the NLTK tonkenisers can be used.\n",
      "\n",
      "We'll see that tekenisers are very useful.\n",
      "\n",
      "This is one last sentence for extra interest!!\n",
      "\n",
      "This was written by Dr. Brian Mac Namee.\n",
      "\n",
      "['We', \"'ll\", 'see', 'that', 'tekenisers', 'are', 'very', 'useful', '.']\n",
      "\n",
      "We\n",
      "\n",
      "'ll\n",
      "\n",
      "see\n",
      "\n",
      "that\n",
      "\n",
      "tekenisers\n",
      "\n",
      "are\n",
      "\n",
      "very\n",
      "\n",
      "useful\n",
      "\n",
      ".\n",
      "\n"
     ]
    }
   ],
   "source": [
    "# Load a simple text file into a string variable\n",
    "with open (\"test_text.txt\", \"r\") as myfile:\n",
    "    text=myfile.read()\n",
    "\n",
    "# Print the loaded text\n",
    "print text\n",
    "print \n",
    "\n",
    "# Perform a sentence tokenisarion\n",
    "sentences = nltk.sent_tokenize(text)\n",
    "\n",
    "# Print the list of setnences\n",
    "print sentences\n",
    "print \n",
    "\n",
    "# Iterate through the setnences and print each one\n",
    "for s in sentences:\n",
    "    print s\n",
    "    print\n",
    "    \n",
    "# Extra one setnence and tokenize it into words\n",
    "second_sentence = sentences[2]\n",
    "words = nltk.word_tokenize(second_sentence)\n",
    "\n",
    "# Print the list of words\n",
    "print words\n",
    "print\n",
    "\n",
    "# Iterate through the words and print each one\n",
    "for w in words:\n",
    "    print w\n",
    "    print"
   ]
  },
  {
   "cell_type": "markdown",
   "metadata": {},
   "source": [
    "Accessing data from web pages is straightforward. The tricky bit is extracting the useful information from the webpage. We can use the Python **urllib12** and **BeautifulSoup4** packages to make this easier."
   ]
  },
  {
   "cell_type": "code",
   "execution_count": null,
   "metadata": {
    "collapsed": false
   },
   "outputs": [],
   "source": [
    "# Read the HTML file\n",
    "url = \"http://www.irishtimes.com/culture/music/2.2117/slane-back-with-a-bang-as-foo-fighters-wow-60-000-1.2232432\"\n",
    "response = urllib2.urlopen(url)\n",
    "html = response.read()\n",
    "\n",
    "# Create a beautiful soup object from the text file so that we get at the article text\n",
    "article_soup = BeautifulSoup(html)\n",
    "\n",
    "# Extract the actual article text  - this relies on the fact that I know what the HTML looks like, not completely robust!\n",
    "article_text = article_soup.find('section', property='articleBody').get_text()\n",
    "\n",
    "print article_text\n",
    "\n",
    "# Create a word cloud\n",
    "wordcloud = WordCloud(font_path='/Library/Fonts/Comic Sans MS.ttf',\n",
    "                     stopwords=STOPWORDS,\n",
    "                      background_color='black',\n",
    "                      width=1800,\n",
    "                      height=1400\n",
    "                     ).generate(article_text)\n",
    "plt.imshow(wordcloud)\n",
    "plt.axis('off')\n",
    "plt.show()\n",
    "\n",
    "# tokenise the article text\n",
    "tokens = nltk.word_tokenize(article_text)\n",
    "\n",
    "# Create an NLTK object \n",
    "article_nltk_text = nltk.Text(tokens)\n",
    "\n",
    "# convert all words to lower case\n",
    "article_nltk_text = [w.lower() for w in article_nltk_text]\n",
    "\n",
    "# Remove all punctuation from word lists - note the use of regular expressions!\n",
    "article_nltk_text = [w for w in article_nltk_text if not (re.match(r'^\\W+$', w) != None)]\n",
    "\n",
    "# Remove all stop words from word lists\n",
    "article_nltk_text = [w for w in article_nltk_text if not w in nltk.corpus.stopwords.words('english')]\n",
    "\n",
    "# Generate the frquency distribution\n",
    "article_freq_dist = FreqDist(article_nltk_text)\n",
    "print article_freq_dist\n"
   ]
  },
  {
   "cell_type": "markdown",
   "metadata": {},
   "source": [
    "One way to access lots of news articles is to use an RSS feed. We can access RSS feeds easily in Python using the **feedparser** package."
   ]
  },
  {
   "cell_type": "code",
   "execution_count": 68,
   "metadata": {
    "collapsed": false
   },
   "outputs": [
    {
     "name": "stdout",
     "output_type": "stream",
     "text": [
      "May  was cold and wet  - but a change is on its way\n",
      "http://www.irishtimes.com/news/environment/may-was-cold-and-wet-but-a-change-is-on-its-way-1.2233677\n",
      "Experts hail a ‘new era’ for cancer treatments\n",
      "http://www.irishtimes.com/news/health/experts-hail-a-new-era-for-cancer-treatments-1.2233470\n",
      "The shoot-out: iPhone 5S versus Canon 700D10\n",
      "http://www.irishtimes.com/news/technology/the-shoot-out-iphone-5s-versus-canon-700d10-1.2233429\n",
      "Northern Ireland sex trade moving over the Border\n",
      "http://www.irishtimes.com/news/ireland/irish-news/northern-ireland-sex-trade-moving-over-the-border-1.2233424\n",
      "British security service shielded abusers in Belfast care home, court hears\n",
      "http://www.irishtimes.com/news/ireland/irish-news/british-security-service-shielded-abusers-in-belfast-care-home-court-hears-1.2233391\n",
      "Kenny criticised over failure to hand over Kingsmill files\n",
      "http://www.irishtimes.com/news/crime-and-law/kenny-criticised-over-failure-to-hand-over-kingsmill-files-1.2233365\n",
      "Teenager who died during football match named\n",
      "http://www.irishtimes.com/news/ireland/irish-news/teenager-who-died-during-football-match-named-1.2233358\n",
      "Oireachtas lawyers ‘should join’ right to report  court action\n",
      "http://www.irishtimes.com/news/politics/oireachtas-lawyers-should-join-right-to-report-court-action-1.2233342\n",
      "Severe weather warnings issued for most of the country\n",
      "http://www.irishtimes.com/news/ireland/irish-news/severe-weather-warnings-issued-for-most-of-the-country-1.2233333\n",
      "Secret police files relating to Easter Rising released\n",
      "http://www.irishtimes.com/news/ireland/irish-news/secret-police-files-relating-to-easter-rising-released-1.2233325\n",
      "Postmortem due on body of woman found in Co Mayo\n",
      "http://www.irishtimes.com/news/crime-and-law/postmortem-due-on-body-of-woman-found-in-co-mayo-1.2233322\n",
      "800 years after Magna Carta, it  is time for a digital bill of rights\n",
      "http://www.irishtimes.com/news/crime-and-law/800-years-after-magna-carta-it-is-time-for-a-digital-bill-of-rights-1.2230833\n",
      "Defect in new Act concerning dissenting shareholder rights\n",
      "http://www.irishtimes.com/news/crime-and-law/defect-in-new-act-concerning-dissenting-shareholder-rights-1.2230849\n",
      "Cost of college campus lodgings set to rise by up to €1,000\n",
      "http://www.irishtimes.com/news/education/cost-of-college-campus-lodgings-set-to-rise-by-up-to-1-000-1.2232821\n",
      "Police believe killer of Eamonn Magee Jnr lay in wait\n",
      "http://www.irishtimes.com/news/crime-and-law/police-believe-killer-of-eamonn-magee-jnr-lay-in-wait-1.2232906\n",
      "Paying for sex now a criminal offence in Northern Ireland\n",
      "http://www.irishtimes.com/news/social-affairs/paying-for-sex-now-a-criminal-offence-in-northern-ireland-1.2232664\n",
      "Weather likely to set trial of endurance for Mini Marathon\n",
      "http://www.irishtimes.com/news/ireland/irish-news/weather-likely-to-set-trial-of-endurance-for-mini-marathon-1.2232722\n",
      "Old and overmedicated: the drug problem in our nursing homes\n",
      "http://www.irishtimes.com/news/social-affairs/old-and-overmedicated-the-drug-problem-in-our-nursing-homes-1.2232764\n",
      "Martin McGuinness not hopeful about NI  cuts breakthrough\n",
      "http://www.irishtimes.com/news/politics/martin-mcguinness-not-hopeful-about-ni-cuts-breakthrough-1.2232768\n",
      "Elderly care home patients given ‘chemical cosh’ drugs\n",
      "http://www.irishtimes.com/news/social-affairs/elderly-care-home-patients-given-chemical-cosh-drugs-1.2232922\n"
     ]
    }
   ],
   "source": [
    "# Read from the Irish Times RSS feed\n",
    "RSS_url = \"https://www.irishtimes.com/cmlink/news-1.1319192\"\n",
    "it_feed = feedparser.parse(RSS_url)\n",
    "len(it_feed.entries)\n",
    "\n",
    "# Iterate through the entries from the feed and print the title of each article and the URL for the articl\n",
    "for article_entry in it_feed.entries:\n",
    "    article_title = article_entry['title']\n",
    "    article_url = article_entry['links'][0]['href']\n",
    "    print article_title\n",
    "    print article_url"
   ]
  },
  {
   "cell_type": "markdown",
   "metadata": {},
   "source": [
    "Twitter is obviously a fun service to get text from. We can use the **Tweepy** package to access the Twitter API. Before using Tweepy you must have Twitter **OAuth credentials** available from https://apps.twitter.com/. Create a new applciation (using your own Twitter credentials) and the generate access tokens."
   ]
  },
  {
   "cell_type": "code",
   "execution_count": 69,
   "metadata": {
    "collapsed": false
   },
   "outputs": [
    {
     "name": "stdout",
     "output_type": "stream",
     "text": [
      "Ingo Keck\n",
      "RT @okfn_spain: No te vayas a perder la @HacksHackersBCN de las #JPD15 de BCN Casos locales d #periodismodatos @CCCBLab @Carlapedret http:/…\n",
      "\n",
      "Robert Llewellyn\n",
      "Me to the weather in the UK.\n",
      "\"Are you serious! This damn cold on June 1st!\"\n",
      "Just lit a fire in the wood burner.\n",
      "Doh!\n",
      "\n",
      "Ingo Keck\n",
      "RT @Alxtowrs: A new @UN report recognizes the importance of encryption in guaranteeing human rights like freedom of expression: https://t.c…\n",
      "\n",
      "The Anti Media\n",
      "#NSA Stops #Spying and World Doesn’t End! But #CivilLiberties Still in #Congress’ Cross Hairs http://t.co/RnhwMLmcdp http://t.co/xtRHLSk7HQ\n",
      "\n",
      "Gregory Piatetsky\n",
      "Sumo Logic raises $80M to analyse companies IT #BigData from servers, devices #IoT #BigDataCo http://t.co/nBnCNgfF5A\n",
      "\n",
      "Ingo Keck\n",
      "RT @okfn_spain: A las 10 de la mañana comienzan en @medialabprado las #JPD15 con #opendata de @finodexproject http://t.co/r0f72k3nKU @jsman…\n",
      "\n",
      "Revolution Analytics\n",
      ".@RevolutionR #RRE 7.4 now available http://t.co/1QHluWEWWS\n",
      "\n",
      "MargaretScott\n",
      "RT @MPollockTrust: Congratulations again to @rosswhitakertv on his #IFTA15 nomination for \"Unbreakable: The Mark Pollock Story\" #iftas http…\n",
      "\n",
      "Eoin Brazil\n",
      "RT @asya999: \"It's one thing to store a lot of data but it's another to actually use it.\"  Well said! #MongoDBWorld panel.\n",
      "\n",
      "✍ Bibliophilia\n",
      "The Chekhov family, 1890. Anton is in the front row, wearing a white jacket. http://t.co/R5SWUXfBLl\n",
      "\n",
      "UX Booth\n",
      "The Notebooks of Optimizely’s Design Team: A Photo Essay  http://t.co/PHjhyn6Jld\n",
      "\n",
      "Andy Kirk\n",
      "RT @JamesVGrimaldi: Shocked &amp; saddened at sudden death of @Seth_Hamblin, talented colleague at @wsj + @washingtonpost @PostGraphics http://…\n",
      "\n",
      "NASA\n",
      "To mark start of 2015 Atlantic Ocean hurricane season, new science animations: http://t.co/qKPUbAREJG #EarthRightNow http://t.co/yiejI6wyew\n",
      "\n",
      "Michael Smiley\n",
      "RT @happylou84: @mrmichaelsmiley @BBCnireland Hurrah! It really is very entertaining. Many congratulations! :)\n",
      "\n",
      "Michael Smiley\n",
      "RT @Neilstardeluxe: @mrmichaelsmiley just watched Black Sea and really liked it. Found myself wanting to hold my breath at times.\n",
      "\n",
      "Emilio Ferrara\n",
      "Emotional Dynamics in the Age of Misinformation. http://t.co/WcPQck4Idl\n",
      "\n",
      "Formula 1\n",
      "\"We can't be pleased with 8th, but I'm proud of our progress\"\n",
      "\n",
      "Latest #CanadianGP quotes &gt;&gt; http://t.co/mTVgO1mPUd http://t.co/m5l9jmG0zc\n",
      "\n",
      "Eoin Brazil\n",
      "RT @wesmckinn: Slides from #ODSC, \"DataFrames: The Extended Cut\" http://t.co/m9VBlVKnQA #pydata #rstats\n",
      "\n",
      "WIRED\n",
      "Have some branches of math become too abstract to be reliably checked by people? http://t.co/3Q2zinexZp\n",
      "\n",
      "Earth Pics\n",
      "Anything is possible | Photo manipulation by Hot Dotz! http://t.co/0puuQNBlpD\n",
      "\n",
      "Michael Smiley\n",
      "STHRA Series 2 is sunshine all the way, enjoy! https://t.co/pVUKs0PU9f\n",
      "\n",
      "Nate Silver\n",
      "RT @micahcohen: Lots of work to do, but April (7.4m unique visitors), May (8.0m) saw record traffic at 538. Almost triple a year ago (2.9m …\n",
      "\n",
      "Paul Pierotti\n",
      "Read how #Facebook is 'blurring the line between #social &amp; search' with its new crowd-sourced review feature: http://t.co/ajWEFspoBx\n",
      "\n",
      "mark little\n",
      "\"After month in China you can write a book on it; after year you can write an essay; after five perhaps a sentence\"  https://t.co/GvbttIyNZc\n",
      "\n"
     ]
    }
   ],
   "source": [
    "import tweepy\n",
    "\n",
    "# OAuth access details for getting at the Twitter API - having these in my code is pretty insecure!!\n",
    "consumer_key = \n",
    "consumer_secret = \n",
    "access_token = \n",
    "access_token_secret = \n",
    "\n",
    "auth = tweepy.OAuthHandler(consumer_key, consumer_secret)\n",
    "auth.set_access_token(access_token, access_token_secret)\n",
    "api = tweepy.API(auth)\n",
    "\n",
    "coord_list = list()\n",
    "public_tweets = api.home_timeline(count=25)\n",
    "for tweet in public_tweets:\n",
    "    print tweet.author.name\n",
    "    print tweet.text\n",
    "    coord_list.append(tweet.coordinates)\n",
    "    print \n",
    "    "
   ]
  },
  {
   "cell_type": "markdown",
   "metadata": {},
   "source": [
    "##Classifying Text"
   ]
  },
  {
   "cell_type": "markdown",
   "metadata": {},
   "source": [
    "Let's do some very simple **sentiment analysis** with Python. We'll download a positive word list and a negative word list and rate the sentiment of documents by the amount of positive or negative content that they contain. This code is inspired by http://nealcaren.web.unc.edu/an-introduction-to-text-analysis-with-python-part-3/"
   ]
  },
  {
   "cell_type": "code",
   "execution_count": 70,
   "metadata": {
    "collapsed": false
   },
   "outputs": [
    {
     "name": "stdout",
     "output_type": "stream",
     "text": [
      "0.454545454545\n",
      "0.545454545455\n"
     ]
    }
   ],
   "source": [
    "# Read the HTML file\n",
    "url_pos = 'http://www.unc.edu/~ncaren/haphazard/positive.txt'\n",
    "response = urllib2.urlopen(url_pos)\n",
    "pos_text = response.read(response)\n",
    "\n",
    "url_neg = 'http://www.unc.edu/~ncaren/haphazard/negative.txt'\n",
    "response = urllib2.urlopen(url_neg)\n",
    "neg_text = response.read(response)\n",
    "\n",
    "pos_list = pos_text.split()\n",
    "neg_list = neg_text.split()\n",
    "\n",
    "#sentence = \"Dwayne Johnson continues to be one of our most dependable action stars, but critics say his affable presence -- and some eye-popping special effects -- only partially compensate for San Andreas' cardboard characters and risible dialogue. Ray Gaines (Johnson) is a Los Angeles Fire Department helicopter pilot who teams with his estranged wife Emma (Carla Gugino) to rescue their daughter after a massive earthquake ravages the Golden State. The pundits say San Andreas is an uneasy (and often preposterous) mix of family drama and disaster spectacle, but it works reasonably well as large-scale popcorn entertainment.\"\n",
    "#sentence = \"Director George Miller made his name with the original Mad Max trilogy, and spent years trying to get a new installment off the ground. Well, the wait is over, and it was certainly worth it: critics say Mad Max: Fury Road is one of the best action movies of recent memory, a blast of exhilarating thrills and spectacular imagery that's both pulse-poundingly visceral and stealthily cerebral. After defecting from a massive fortress called the Citadel with a group of concubines in tow, Imperator Furiosa (Charlize Theron) eventually joins forces with expert driver Mad Max Rockatansky (Tom Hardy). They're pursued by a fleet of heavily armed vehicles, and a symphony of automotive mayhem ensues. The pundits say the Certified Fresh Mad Max: Fury Road is a glorious exercise in pop filmmaking -- it's uncompromisingly bold, breathlessly paced, and a lot of fun.\"\n",
    "sentence = \"Banking on the success of the Pirates of the Caribbean franchise, Disney poaches another of its theme park attractions for this sci-fi adventure. A plucky teenager (Britt Robertson) discovers an interdimensional utopia while helping a cranky scientist (George Clooney) and robot child (Raffey Cassidy) prevent Earth's self-imposed apocalypse. Director Brad Bird brings his vivid widescreen compositions and kitschy retro-futurism to a screenplay he co-wrote with Damon Lindleof, but his storytelling, a strong point in The Iron Giant (1999) and The Incredibles (2004), is harsh and inelegant. An aggressively optimistic script admonishes the lazy and irresolute and urges humanity to end war and save the environment; the proselytizing burdens an already onerous plot. \"\n",
    "sentence_list = nltk.word_tokenize(sentence)\n",
    "\n",
    "pos_overlap = len(set(sentence_list) & set(pos_list))\n",
    "neg_overlap = len(set(sentence_list) & set(neg_list))\n",
    "\n",
    "pos_score = pos_overlap/(pos_overlap + neg_overlap)\n",
    "neg_score = neg_overlap/(pos_overlap + neg_overlap)\n",
    "\n",
    "print pos_score\n",
    "print neg_score"
   ]
  },
  {
   "cell_type": "markdown",
   "metadata": {},
   "source": [
    "The other thing  that can be really useful it s to build a **text classifier** trainined on a specific corpus. Using a corpus of movie reviews we will build a document classifier that predicts how much people will like a movie. One simple way to represent documents for document classification is with a **bag of words** representation. \n",
    "\n",
    "![Alt text](./TextClassification/Slide034.jpg)\n",
    "![Alt text](./TextClassification/Slide035.jpg)\n",
    "![Alt text](./TextClassification/Slide036.jpg)\n",
    "![Alt text](./TextClassification/Slide037.jpg)\n",
    "![Alt text](./TextClassification/Slide038.jpg)\n",
    "![Alt text](./TextClassification/Slide039.jpg)\n",
    "\n",
    "\n",
    "\n",
    "One of the unique characteristics of textual data is the very large number of features involved – typically in the range of tens of thousands of features. It is common practice to reduce the number of features as much as possible before attempting to build a classifier.\n",
    "\n",
    "Zipf’s Law captures the distribution of the frequency of occurrence of words in natural language texts \n",
    "Zipf’s law suggests two things:\n",
    "* High frequency words occur in too many documents to be useful in prediction\n",
    "* Low frequency words are too rare to be of value \n",
    "\n",
    "We utilise two common feature reduction techniques: \n",
    "* Stop-word removal to remove the high frequency words – achieved using a list of known stop words\n",
    "* Document frequency to remove the low frequency words – remove terms that occur at most n times (1 <= n <= 3)\n",
    "These will typically reduce a feature set massively\n",
    "\n",
    "Example **stop words**: a\n",
    "about\n",
    "above\n",
    "across\n",
    "after\n",
    "afterwards\n",
    "again\n",
    "against\n",
    "all\n",
    "almost\n",
    "alone\n",
    "along\n",
    "already\n",
    "also\n",
    "although\n",
    "always\n",
    "am\n",
    "among\n",
    "amongst\n",
    "amoungst\n",
    "amount\n",
    "an\n",
    "and\n",
    "another\n",
    "any\n",
    "anyhow\n",
    "anyone\n",
    "anything\n",
    "anyway\n",
    "anywhere\n",
    "are\n",
    "around\n",
    "as\n",
    "at\n",
    "back\n",
    "be\n",
    "became\n",
    "because\n",
    "become\n",
    "becomes\n",
    "becoming\n",
    "been\n",
    "before\n",
    "beforehand\n",
    "behind\n",
    "being\n",
    "below\n",
    "beside\n",
    "besides\n",
    "between\n",
    "beyond\n",
    "bill\n",
    "both\n",
    "bottom\n",
    "but\n",
    "by\n",
    "call\n",
    "can\n",
    "cannot\n",
    "cant\n",
    "co\n",
    "computer\n",
    "con\n",
    "could\n",
    "couldnt\n",
    "cry\n",
    "de\n",
    "describe\n",
    "detail\n",
    "do\n",
    "done\n",
    "down\n",
    "due\n",
    "during\n",
    "each\n",
    "eg\n",
    "eight\n",
    "either\n",
    "eleven\n",
    "else\n",
    "elsewhere\n",
    "empty\n",
    "enough\n",
    "etc\n",
    "even\n",
    "ever\n",
    "every\n",
    "everyone\n",
    "everything\n",
    "everywhere\n",
    "except\n",
    "few\n",
    "fifteen\n",
    "fify\n",
    "fill\n",
    "find\n",
    "fire\n",
    "first\n",
    "five\n",
    "for\n",
    "former\n",
    "formerly\n",
    "forty\n",
    "found\n",
    "four\n",
    "from\n",
    "front\n",
    "full\n",
    "further\n",
    "get\n",
    "give\n",
    "go\n",
    "had\n",
    "has\n",
    "hasnt\n",
    "have\n",
    "he\n",
    "hence\n",
    "her\n",
    "here\n",
    "hereafter\n",
    "hereby\n",
    "herein\n",
    "hereupon\n",
    "hers\n",
    "herself\n",
    "him\n",
    "himself\n",
    "his\n",
    "how\n",
    "however\n",
    "hundred\n",
    "i\n",
    "ie\n",
    "if\n",
    "in\n",
    "inc\n",
    "indeed\n",
    "interest\n",
    "into\n",
    "is\n",
    "it\n",
    "its\n",
    "itself\n",
    "keep\n",
    "last\n",
    "latter\n",
    "latterly\n",
    "least\n",
    "less\n",
    "ltd\n",
    "made\n",
    "many\n",
    "may\n",
    "me\n",
    "meanwhile\n",
    "might\n",
    "mill\n",
    "mine\n",
    "more\n",
    "moreover\n",
    "most\n",
    "mostly\n",
    "move\n",
    "much\n",
    "must\n",
    "my\n",
    "myself\n",
    "name\n",
    "namely\n",
    "neither\n",
    "never\n",
    "nevertheless\n",
    "next\n",
    "nine\n",
    "no\n",
    "nobody\n",
    "none\n",
    "noone\n",
    "nor\n",
    "not\n",
    "nothing\n",
    "now\n",
    "nowhere\n",
    "of\n",
    "off\n",
    "often\n",
    "on\n",
    "once\n",
    "one\n",
    "only\n",
    "onto\n",
    "or\n",
    "other\n",
    "others\n",
    "otherwise\n",
    "our\n",
    "ours\n",
    "ourselves\n",
    "out\n",
    "over\n",
    "own\n",
    "part\n",
    "per\n",
    "perhaps\n",
    "please\n",
    "put\n",
    "rather\n",
    "re\n",
    "same\n",
    "see\n",
    "seem\n",
    "seemed\n",
    "seeming\n",
    "seems\n",
    "serious\n",
    "several\n",
    "she\n",
    "should\n",
    "show\n",
    "side\n",
    "since\n",
    "sincere\n",
    "six\n",
    "sixty\n",
    "so\n",
    "some\n",
    "somehow\n",
    "someone\n",
    "something\n",
    "sometime\n",
    "sometimes\n",
    "somewhere\n",
    "still\n",
    "such\n",
    "system\n",
    "take\n",
    "ten\n",
    "than\n",
    "that\n",
    "the\n",
    "their\n",
    "them\n",
    "themselves\n",
    "then\n",
    "thence\n",
    "there\n",
    "thereafter\n",
    "thereby\n",
    "therefore\n",
    "therein\n",
    "thereupon\n",
    "these\n",
    "they\n",
    "thick\n",
    "thin\n",
    "third\n",
    "this\n",
    "those\n",
    "though\n",
    "three\n",
    "through\n",
    "throughout\n",
    "thru\n",
    "thus\n",
    "to\n",
    "together\n",
    "too\n",
    "top\n",
    "toward\n",
    "towards\n",
    "twelve\n",
    "twenty\n",
    "two\n",
    "un\n",
    "under\n",
    "until\n",
    "up\n",
    "upon\n",
    "us\n",
    "very\n",
    "via\n",
    "was\n",
    "we\n",
    "well\n",
    "were\n",
    "what\n",
    "whatever\n",
    "when\n",
    "whence\n",
    "whenever\n",
    "where\n",
    "whereafter\n",
    "whereas\n",
    "whereby\n",
    "wherein\n",
    "whereupon\n",
    "wherever\n",
    "whether\n",
    "which\n",
    "while\n",
    "whither\n",
    "who\n",
    "whoever\n",
    "whole\n",
    "whom\n",
    "whose\n",
    "why\n",
    "will\n",
    "with\n",
    "within\n",
    "without\n",
    "would\n",
    "yet\n",
    "you\n",
    "your\n",
    "yours\n",
    "yourself\n",
    "yourselves\n",
    "\n",
    "![Alt text](./TextClassification/Slide046.jpg)\n",
    "![Alt text](./TextClassification/Slide047.jpg)\n",
    "\n",
    "Once we have a bag of words represenation we can use a **Naive Bayes** classifier to learn to recognise the differences between categories of documents. The Naive Bayes formula is as follows:\n",
    "\n",
    "$\\mathbb{M}(\\mathbf{q})= arg\\, max_{l \\in levels(t)} \\left(\\left(\\displaystyle \\prod_{i=1}^m P(\\mathbf{q}\\left[i\\right]\\mid t=l) \\right) \\times P(t=l)\\right)$\n",
    "\n",
    "where $\\mathbf{q}$ is a query instance represented using a bag of words representation, $l$ is from a defined set of target levels, $P(\\mathbf{q}\\left[i\\right]\\mid t=l)$ is the probability of seeing the word $\\mathbf{q}\\left[i\\right]$ in a document of type $l$, and $P(t=l)$ is the prior probability of seeing a document of class $l$."
   ]
  },
  {
   "cell_type": "code",
   "execution_count": 71,
   "metadata": {
    "collapsed": false
   },
   "outputs": [
    {
     "name": "stdout",
     "output_type": "stream",
     "text": [
      "0.86\n",
      "Most Informative Features\n",
      "   contains(outstanding) = True              pos : neg    =     10.4 : 1.0\n",
      "        contains(seagal) = True              neg : pos    =      8.7 : 1.0\n",
      "         contains(mulan) = True              pos : neg    =      8.1 : 1.0\n",
      "   contains(wonderfully) = True              pos : neg    =      6.3 : 1.0\n",
      "         contains(damon) = True              pos : neg    =      5.7 : 1.0\n"
     ]
    }
   ],
   "source": [
    "from nltk.corpus import movie_reviews\n",
    "documents = [(list(movie_reviews.words(fileid)), category)\n",
    "    for category in movie_reviews.categories()\n",
    "    for fileid in movie_reviews.fileids(category)]\n",
    "#random.shuffle(documents)\n",
    "\n",
    "all_words = nltk.FreqDist(w.lower() for w in movie_reviews.words())\n",
    "word_features = list(all_words)[:2000]\n",
    "\n",
    "def document_features(document):\n",
    "    document_words = set(document)\n",
    "    features = {}\n",
    "    for word in word_features:\n",
    "        features['contains({})'.format(word)] = (word in document_words)\n",
    "    return features\n",
    "\n",
    "featuresets = [(document_features(d), c) for (d,c) in documents]\n",
    "train_set, test_set = featuresets[100:], featuresets[:100]\n",
    "classifier = nltk.NaiveBayesClassifier.train(train_set)\n",
    "\n",
    "print(nltk.classify.accuracy(classifier, test_set))\n",
    "classifier.show_most_informative_features(5)\n"
   ]
  },
  {
   "cell_type": "markdown",
   "metadata": {
    "collapsed": true
   },
   "source": [
    "##Other Things We Can Do With NLTK"
   ]
  },
  {
   "cell_type": "markdown",
   "metadata": {},
   "source": [
    "The NLTK has lots of other great features. For example we can tag parts of speech in text."
   ]
  },
  {
   "cell_type": "code",
   "execution_count": 72,
   "metadata": {
    "collapsed": false
   },
   "outputs": [
    {
     "name": "stdout",
     "output_type": "stream",
     "text": [
      "[('At', 'IN'), ('eight', 'CD'), (\"o'clock\", 'JJ'), ('on', 'IN'), ('Thursday', 'NNP'), ('morning', 'NN'), ('Arthur', 'NNP'), ('did', 'VBD'), (\"n't\", 'RB'), ('feel', 'VB'), ('very', 'RB'), ('good', 'JJ'), ('.', '.')]\n"
     ]
    }
   ],
   "source": [
    "sentence = \"At eight o'clock on Thursday morning Arthur didn't feel very good.\"\n",
    "tokens = nltk.word_tokenize(sentence)\n",
    "tagged = nltk.pos_tag(tokens)\n",
    "print tagged"
   ]
  },
  {
   "cell_type": "markdown",
   "metadata": {},
   "source": [
    "Identify **named entities** within a text."
   ]
  },
  {
   "cell_type": "code",
   "execution_count": 73,
   "metadata": {
    "collapsed": false
   },
   "outputs": [
    {
     "name": "stdout",
     "output_type": "stream",
     "text": [
      "(S\n",
      "  At/IN\n",
      "  eight/CD\n",
      "  o'clock/JJ\n",
      "  on/IN\n",
      "  Thursday/NNP\n",
      "  morning/NN\n",
      "  (PERSON Arthur/NNP)\n",
      "  did/VBD\n",
      "  n't/RB\n",
      "  feel/VB\n",
      "  very/RB\n",
      "  good/JJ\n",
      "  ./.)\n"
     ]
    }
   ],
   "source": [
    "entities = nltk.chunk.ne_chunk(tagged)\n",
    "print entities"
   ]
  },
  {
   "cell_type": "code",
   "execution_count": null,
   "metadata": {
    "collapsed": true
   },
   "outputs": [],
   "source": []
  }
 ],
 "metadata": {
  "kernelspec": {
   "display_name": "Python 2",
   "language": "python",
   "name": "python2"
  },
  "language_info": {
   "codemirror_mode": {
    "name": "ipython",
    "version": 2
   },
   "file_extension": ".py",
   "mimetype": "text/x-python",
   "name": "python",
   "nbconvert_exporter": "python",
   "pygments_lexer": "ipython2",
   "version": "2.7.6"
  }
 },
 "nbformat": 4,
 "nbformat_minor": 0
}
