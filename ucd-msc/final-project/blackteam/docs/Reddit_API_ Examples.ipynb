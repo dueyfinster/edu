{
 "cells": [
  {
   "cell_type": "markdown",
   "metadata": {},
   "source": [
    "# Reddit API Examples\n",
    "#### by Neil Grogan\n",
    "[Docs here](https://praw.readthedocs.org/en/v3.0.0/pages/getting_started.html)"
   ]
  },
  {
   "cell_type": "code",
   "execution_count": 1,
   "metadata": {
    "collapsed": true
   },
   "outputs": [],
   "source": [
    "# Import Python Reddit API\n",
    "import praw"
   ]
  },
  {
   "cell_type": "code",
   "execution_count": 3,
   "metadata": {
    "collapsed": false
   },
   "outputs": [],
   "source": [
    "user_agent = \"NewsFast Website\" # Set user agent\n",
    "r = praw.Reddit(user_agent=user_agent) # get instance of reddit API\n"
   ]
  },
  {
   "cell_type": "code",
   "execution_count": 5,
   "metadata": {
    "collapsed": false
   },
   "outputs": [],
   "source": [
    "tech_subreddit = r.get_subreddit(\"technology\")"
   ]
  },
  {
   "cell_type": "markdown",
   "metadata": {},
   "source": [
    "[Subreddit API Docs](https://praw.readthedocs.org/en/v3.0.0/pages/code_overview.html?highlight=subreddit#praw.objects.Subreddit) - can get ‘hot’, ‘new’, ‘rising’, ‘controversial, or ‘top’ stories: "
   ]
  },
  {
   "cell_type": "code",
   "execution_count": 34,
   "metadata": {
    "collapsed": true
   },
   "outputs": [],
   "source": [
    "tech_submissions = tech_subreddit.get_top(limit = 10)\n",
    "#tech_submissions = tech_subreddit.get_rising(limit = 10)\n",
    "#tech_submissions = tech_subreddit.get_hot(limit = 10)\n",
    "#tech_submissions = tech_subreddit.get_controversial(limit = 10)"
   ]
  },
  {
   "cell_type": "code",
   "execution_count": 36,
   "metadata": {
    "collapsed": false
   },
   "outputs": [
    {
     "name": "stdout",
     "output_type": "stream",
     "text": [
      "{'saved': False, 'media': None, 'score': 4556, '_comment_sort': None, 'clicked': False, 'banned_by': None, 'has_fetched': True, 'gilded': 0, '_info_url': 'https://api.reddit.com/api/info/', 'json_dict': None, 'suggested_sort': None, 'title': 'Soureforge now listed as malicious when clicked from Google search results', 'from': None, 'hidden': False, 'name': 't3_3a9h9x', 'link_flair_css_class': 'general', 'author_flair_text': None, 'author': Redditor(user_name='presidentjim'), '_orphaned': {}, 'user_reports': [], 'author_flair_css_class': None, 'domain': 'self.technology', 'link_flair_text': 'Misleading: Only one project', 'is_self': True, '_comments_by_id': {}, '_params': {}, 'permalink': 'https://www.reddit.com/r/technology/comments/3a9h9x/soureforge_now_listed_as_malicious_when_clicked/', 'stickied': False, 'created_utc': 1434614242.0, 'visited': False, 'edited': 1434645772.0, 'mod_reports': [], '_replaced_more': False, 'thumbnail': '', 'subreddit_id': 't5_2qh16', '_underscore_names': None, 'secure_media_embed': {}, 'reddit_session': <praw.Reddit object at 0x7f9e552c34a8>, 'removal_reason': None, 'url': 'http://www.reddit.com/r/technology/comments/3a9h9x/soureforge_now_listed_as_malicious_when_clicked/', 'num_comments': 463, 'likes': None, 'created': 1434643042.0, 'media_embed': {}, 'over_18': False, 'id': '3a9h9x', 'from_kind': None, 'selftext_html': '<!-- SC_OFF --><div class=\"md\"><p>Just found this when I was trying to download a screen recorder. <a href=\"http://i.imgur.com/FAv6VdV.png\">http://i.imgur.com/FAv6VdV.png</a></p>\\n\\n<p>So did we do it?</p>\\n\\n<p>Edit: it&#39;s only some projects. See here: <a href=\"http://www.information-age.com/industry/software/123459675/hotbed-malware-another-blow-sourceforge-google-discovers-588-pages-malicious-software\">http://www.information-age.com/industry/software/123459675/hotbed-malware-another-blow-sourceforge-google-discovers-588-pages-malicious-software</a></p>\\n</div><!-- SC_ON -->', 'approved_by': None, 'distinguished': None, 'downs': 0, '_api_link': 'https://api.reddit.com/r/technology/comments/3a9h9x/soureforge_now_listed_as_malicious_when_clicked/', '_uniq': None, 'report_reasons': None, 'subreddit': Subreddit(subreddit_name='technology'), 'ups': 4556, '_comments': None, 'selftext': \"Just found this when I was trying to download a screen recorder. http://i.imgur.com/FAv6VdV.png\\n\\nSo did we do it?\\n\\nEdit: it's only some projects. See here: http://www.information-age.com/industry/software/123459675/hotbed-malware-another-blow-sourceforge-google-discovers-588-pages-malicious-software\", 'num_reports': None, 'from_id': None, 'archived': False, 'secure_media': None}\n",
      "{'saved': False, 'media': None, 'score': 328, '_comment_sort': None, 'clicked': False, 'banned_by': None, 'has_fetched': True, 'gilded': 0, '_info_url': 'https://api.reddit.com/api/info/', 'json_dict': None, 'suggested_sort': None, 'title': 'Uber drivers are employees, Calif. court rules. A blow for ‘sharing economy’ startups?', 'from': None, 'hidden': False, 'name': 't3_3a8ekw', 'link_flair_css_class': 'general', 'author_flair_text': None, 'author': Redditor(user_name='willwise'), '_orphaned': {}, 'user_reports': [], 'author_flair_css_class': None, 'domain': 'csmonitor.com', 'link_flair_text': 'Business', 'is_self': False, '_comments_by_id': {}, '_params': {}, 'permalink': 'https://www.reddit.com/r/technology/comments/3a8ekw/uber_drivers_are_employees_calif_court_rules_a/', 'stickied': False, 'created_utc': 1434590106.0, 'visited': False, 'edited': False, 'mod_reports': [], '_replaced_more': False, 'thumbnail': '', 'subreddit_id': 't5_2qh16', '_underscore_names': None, 'secure_media_embed': {}, 'reddit_session': <praw.Reddit object at 0x7f9e552c34a8>, 'removal_reason': None, 'url': 'http://www.csmonitor.com/Business/2015/0617/Uber-drivers-are-employees-Calif.-court-rules.-A-blow-for-sharing-economy-startups-video', 'num_comments': 118, 'likes': None, 'created': 1434618906.0, 'media_embed': {}, 'over_18': False, 'id': '3a8ekw', 'from_kind': None, 'selftext_html': None, 'approved_by': None, 'distinguished': None, 'downs': 0, '_api_link': 'https://api.reddit.com/r/technology/comments/3a8ekw/uber_drivers_are_employees_calif_court_rules_a/', '_uniq': None, 'report_reasons': None, 'subreddit': Subreddit(subreddit_name='technology'), 'ups': 328, '_comments': None, 'selftext': '', 'num_reports': None, 'from_id': None, 'archived': False, 'secure_media': None}\n",
      "{'saved': False, 'media': None, 'score': 243, '_comment_sort': None, 'clicked': False, 'banned_by': None, 'has_fetched': True, 'gilded': 0, '_info_url': 'https://api.reddit.com/api/info/', 'json_dict': None, 'suggested_sort': None, 'title': 'Congress just got one step closer to blocking net neutrality', 'from': None, 'hidden': False, 'name': 't3_3a7611', 'link_flair_css_class': 'netneutrality', 'author_flair_text': None, 'author': Redditor(user_name='SUPE-snow'), '_orphaned': {}, 'user_reports': [], 'author_flair_css_class': None, 'domain': 'dailydot.com', 'link_flair_text': 'Net Neutrality', 'is_self': False, '_comments_by_id': {}, '_params': {}, 'permalink': 'https://www.reddit.com/r/technology/comments/3a7611/congress_just_got_one_step_closer_to_blocking_net/', 'stickied': False, 'created_utc': 1434569422.0, 'visited': False, 'edited': False, 'mod_reports': [], '_replaced_more': False, 'thumbnail': '', 'subreddit_id': 't5_2qh16', '_underscore_names': None, 'secure_media_embed': {}, 'reddit_session': <praw.Reddit object at 0x7f9e552c34a8>, 'removal_reason': None, 'url': 'http://www.dailydot.com/politics/net-neutrality-fcc-blocked-funding-bill-house-committee/', 'num_comments': 25, 'likes': None, 'created': 1434598222.0, 'media_embed': {}, 'over_18': False, 'id': '3a7611', 'from_kind': None, 'selftext_html': None, 'approved_by': None, 'distinguished': None, 'downs': 0, '_api_link': 'https://api.reddit.com/r/technology/comments/3a7611/congress_just_got_one_step_closer_to_blocking_net/', '_uniq': None, 'report_reasons': None, 'subreddit': Subreddit(subreddit_name='technology'), 'ups': 243, '_comments': None, 'selftext': '', 'num_reports': None, 'from_id': None, 'archived': False, 'secure_media': None}\n",
      "{'saved': False, 'media': None, 'score': 182, '_comment_sort': None, 'clicked': False, 'banned_by': None, 'has_fetched': True, 'gilded': 0, '_info_url': 'https://api.reddit.com/api/info/', 'json_dict': None, 'suggested_sort': None, 'title': 'Reddit Switches to Encryption By Default', 'from': None, 'hidden': False, 'name': 't3_3a6ob6', 'link_flair_css_class': 'general', 'author_flair_text': None, 'author': Redditor(user_name='User_Name13'), '_orphaned': {}, 'user_reports': [], 'author_flair_css_class': None, 'domain': 'motherboard.vice.com', 'link_flair_text': 'Security', 'is_self': False, '_comments_by_id': {}, '_params': {}, 'permalink': 'https://www.reddit.com/r/technology/comments/3a6ob6/reddit_switches_to_encryption_by_default/', 'stickied': False, 'created_utc': 1434562070.0, 'visited': False, 'edited': False, 'mod_reports': [], '_replaced_more': False, 'thumbnail': '', 'subreddit_id': 't5_2qh16', '_underscore_names': None, 'secure_media_embed': {}, 'reddit_session': <praw.Reddit object at 0x7f9e552c34a8>, 'removal_reason': None, 'url': 'http://motherboard.vice.com/read/reddit-switches-to-https-encryption-by-default', 'num_comments': 27, 'likes': None, 'created': 1434590870.0, 'media_embed': {}, 'over_18': False, 'id': '3a6ob6', 'from_kind': None, 'selftext_html': None, 'approved_by': None, 'distinguished': None, 'downs': 0, '_api_link': 'https://api.reddit.com/r/technology/comments/3a6ob6/reddit_switches_to_encryption_by_default/', '_uniq': None, 'report_reasons': None, 'subreddit': Subreddit(subreddit_name='technology'), 'ups': 182, '_comments': None, 'selftext': '', 'num_reports': None, 'from_id': None, 'archived': False, 'secure_media': None}\n",
      "{'saved': False, 'media': None, 'score': 115, '_comment_sort': None, 'clicked': False, 'banned_by': None, 'has_fetched': True, 'gilded': 0, '_info_url': 'https://api.reddit.com/api/info/', 'json_dict': None, 'suggested_sort': None, 'title': 'VICE News correspondent Simon Ostrovsky follows the digital and literal footprints of one Russian soldier, tracking him from eastern Ukraine to Siberia, to prove that Russian soldiers are fighting in Ukraine.', 'from': None, 'hidden': False, 'name': 't3_3a6p9l', 'link_flair_css_class': 'general', 'author_flair_text': None, 'author': Redditor(user_name='TheCastro'), '_orphaned': {}, 'user_reports': [], 'author_flair_css_class': None, 'domain': 'news.vice.com', 'link_flair_text': 'Security', 'is_self': False, '_comments_by_id': {}, '_params': {}, 'permalink': 'https://www.reddit.com/r/technology/comments/3a6p9l/vice_news_correspondent_simon_ostrovsky_follows/', 'stickied': False, 'created_utc': 1434562466.0, 'visited': False, 'edited': False, 'mod_reports': [], '_replaced_more': False, 'thumbnail': '', 'subreddit_id': 't5_2qh16', '_underscore_names': None, 'secure_media_embed': {}, 'reddit_session': <praw.Reddit object at 0x7f9e552c34a8>, 'removal_reason': None, 'url': 'https://news.vice.com/video/selfie-soldiers-russia-checks-in-to-ukraine', 'num_comments': 14, 'likes': None, 'created': 1434591266.0, 'media_embed': {}, 'over_18': False, 'id': '3a6p9l', 'from_kind': None, 'selftext_html': None, 'approved_by': None, 'distinguished': None, 'downs': 0, '_api_link': 'https://api.reddit.com/r/technology/comments/3a6p9l/vice_news_correspondent_simon_ostrovsky_follows/', '_uniq': None, 'report_reasons': None, 'subreddit': Subreddit(subreddit_name='technology'), 'ups': 115, '_comments': None, 'selftext': '', 'num_reports': None, 'from_id': None, 'archived': False, 'secure_media': None}\n",
      "{'saved': False, 'media': None, 'score': 104, '_comment_sort': None, 'clicked': False, 'banned_by': None, 'has_fetched': True, 'gilded': 0, '_info_url': 'https://api.reddit.com/api/info/', 'json_dict': None, 'suggested_sort': None, 'title': 'A California Labor Ruling Just Said an Uber Driver Is an Employee. That’s Uber’s Worst Nightmare.', 'from': None, 'hidden': False, 'name': 't3_3a7rzm', 'link_flair_css_class': 'general', 'author_flair_text': None, 'author': Redditor(user_name='Adalbrosios'), '_orphaned': {}, 'user_reports': [], 'author_flair_css_class': None, 'domain': 'slate.com', 'link_flair_text': 'Transport', 'is_self': False, '_comments_by_id': {}, '_params': {}, 'permalink': 'https://www.reddit.com/r/technology/comments/3a7rzm/a_california_labor_ruling_just_said_an_uber/', 'stickied': False, 'created_utc': 1434578838.0, 'visited': False, 'edited': False, 'mod_reports': [], '_replaced_more': False, 'thumbnail': '', 'subreddit_id': 't5_2qh16', '_underscore_names': None, 'secure_media_embed': {}, 'reddit_session': <praw.Reddit object at 0x7f9e552c34a8>, 'removal_reason': None, 'url': 'http://www.slate.com/blogs/moneybox/2015/06/17/uber_drivers_ruled_employees_by_california_labor_commission.html', 'num_comments': 23, 'likes': None, 'created': 1434607638.0, 'media_embed': {}, 'over_18': False, 'id': '3a7rzm', 'from_kind': None, 'selftext_html': None, 'approved_by': None, 'distinguished': None, 'downs': 0, '_api_link': 'https://api.reddit.com/r/technology/comments/3a7rzm/a_california_labor_ruling_just_said_an_uber/', '_uniq': None, 'report_reasons': None, 'subreddit': Subreddit(subreddit_name='technology'), 'ups': 104, '_comments': None, 'selftext': '', 'num_reports': None, 'from_id': None, 'archived': False, 'secure_media': None}\n",
      "{'saved': False, 'media': None, 'score': 104, '_comment_sort': None, 'clicked': False, 'banned_by': None, 'has_fetched': True, 'gilded': 0, '_info_url': 'https://api.reddit.com/api/info/', 'json_dict': None, 'suggested_sort': None, 'title': 'AT&T Fined $100 Million by the FCC for Misleading Customers About Throttled Unlimited Data Plans', 'from': None, 'hidden': False, 'name': 't3_3a6de5', 'link_flair_css_class': 'general', 'author_flair_text': None, 'author': Redditor(user_name='p1529'), '_orphaned': {}, 'user_reports': [], 'author_flair_css_class': None, 'domain': 'theverge.com', 'link_flair_text': 'Business', 'is_self': False, '_comments_by_id': {}, '_params': {}, 'permalink': 'https://www.reddit.com/r/technology/comments/3a6de5/att_fined_100_million_by_the_fcc_for_misleading/', 'stickied': False, 'created_utc': 1434557364.0, 'visited': False, 'edited': False, 'mod_reports': [], '_replaced_more': False, 'thumbnail': '', 'subreddit_id': 't5_2qh16', '_underscore_names': None, 'secure_media_embed': {}, 'reddit_session': <praw.Reddit object at 0x7f9e552c34a8>, 'removal_reason': None, 'url': 'http://www.theverge.com/2015/6/17/8796575/att-fined-100-million-fcc-misleading-unlimited-data-throttling', 'num_comments': 7, 'likes': None, 'created': 1434586164.0, 'media_embed': {}, 'over_18': False, 'id': '3a6de5', 'from_kind': None, 'selftext_html': None, 'approved_by': None, 'distinguished': None, 'downs': 0, '_api_link': 'https://api.reddit.com/r/technology/comments/3a6de5/att_fined_100_million_by_the_fcc_for_misleading/', '_uniq': None, 'report_reasons': None, 'subreddit': Subreddit(subreddit_name='technology'), 'ups': 104, '_comments': None, 'selftext': '', 'num_reports': None, 'from_id': None, 'archived': False, 'secure_media': None}\n",
      "{'saved': False, 'media': None, 'score': 65, '_comment_sort': None, 'clicked': False, 'banned_by': None, 'has_fetched': True, 'gilded': 0, '_info_url': 'https://api.reddit.com/api/info/', 'json_dict': None, 'suggested_sort': None, 'title': \"Microsoft's site dedicated to fighting US surveillance just got hacked\", 'from': None, 'hidden': False, 'name': 't3_3a8lw0', 'link_flair_css_class': 'general', 'author_flair_text': None, 'author': Redditor(user_name='moooooky'), '_orphaned': {}, 'user_reports': [], 'author_flair_css_class': None, 'domain': 'zdnet.com', 'link_flair_text': 'Security', 'is_self': False, '_comments_by_id': {}, '_params': {}, 'permalink': 'https://www.reddit.com/r/technology/comments/3a8lw0/microsofts_site_dedicated_to_fighting_us/', 'stickied': False, 'created_utc': 1434593891.0, 'visited': False, 'edited': False, 'mod_reports': [], '_replaced_more': False, 'thumbnail': '', 'subreddit_id': 't5_2qh16', '_underscore_names': None, 'secure_media_embed': {}, 'reddit_session': <praw.Reddit object at 0x7f9e552c34a8>, 'removal_reason': None, 'url': 'http://www.zdnet.com/article/microsofts-site-devoted-to-fighting-the-us-government-just-got-hacked/', 'num_comments': 4, 'likes': None, 'created': 1434622691.0, 'media_embed': {}, 'over_18': False, 'id': '3a8lw0', 'from_kind': None, 'selftext_html': None, 'approved_by': None, 'distinguished': None, 'downs': 0, '_api_link': 'https://api.reddit.com/r/technology/comments/3a8lw0/microsofts_site_dedicated_to_fighting_us/', '_uniq': None, 'report_reasons': None, 'subreddit': Subreddit(subreddit_name='technology'), 'ups': 65, '_comments': None, 'selftext': '', 'num_reports': None, 'from_id': None, 'archived': False, 'secure_media': None}\n",
      "{'saved': False, 'media': None, 'score': 53, '_comment_sort': None, 'clicked': False, 'banned_by': None, 'has_fetched': True, 'gilded': 0, '_info_url': 'https://api.reddit.com/api/info/', 'json_dict': None, 'suggested_sort': None, 'title': 'Justice served: AT&T to be fined $100 million for capping unlimited data plans.', 'from': None, 'hidden': False, 'name': 't3_3a6g05', 'link_flair_css_class': 'general', 'author_flair_text': None, 'author': Redditor(user_name='alphamoose'), '_orphaned': {}, 'user_reports': [], 'author_flair_css_class': None, 'domain': 'wsj.com', 'link_flair_text': 'Business', 'is_self': False, '_comments_by_id': {}, '_params': {}, 'permalink': 'https://www.reddit.com/r/technology/comments/3a6g05/justice_served_att_to_be_fined_100_million_for/', 'stickied': False, 'created_utc': 1434558482.0, 'visited': False, 'edited': False, 'mod_reports': [], '_replaced_more': False, 'thumbnail': '', 'subreddit_id': 't5_2qh16', '_underscore_names': None, 'secure_media_embed': {}, 'reddit_session': <praw.Reddit object at 0x7f9e552c34a8>, 'removal_reason': None, 'url': 'http://www.wsj.com/articles/fcc-to-fine-at-t-100-million-for-capping-unlimited-data-plans-1434557988?mod=djemalertNEWS', 'num_comments': 14, 'likes': None, 'created': 1434587282.0, 'media_embed': {}, 'over_18': False, 'id': '3a6g05', 'from_kind': None, 'selftext_html': None, 'approved_by': None, 'distinguished': None, 'downs': 0, '_api_link': 'https://api.reddit.com/r/technology/comments/3a6g05/justice_served_att_to_be_fined_100_million_for/', '_uniq': None, 'report_reasons': None, 'subreddit': Subreddit(subreddit_name='technology'), 'ups': 53, '_comments': None, 'selftext': '', 'num_reports': None, 'from_id': None, 'archived': False, 'secure_media': None}\n"
     ]
    }
   ],
   "source": [
    "for submission in tech_submissions:\n",
    "    #print(submission['title'],\": \",submission['url'])\n",
    "    print(submission.__dict__) # show all values on object"
   ]
  },
  {
   "cell_type": "code",
   "execution_count": null,
   "metadata": {
    "collapsed": true
   },
   "outputs": [],
   "source": []
  }
 ],
 "metadata": {
  "kernelspec": {
   "display_name": "Python 3",
   "language": "python",
   "name": "python3"
  },
  "language_info": {
   "codemirror_mode": {
    "name": "ipython",
    "version": 3
   },
   "file_extension": ".py",
   "mimetype": "text/x-python",
   "name": "python",
   "nbconvert_exporter": "python",
   "pygments_lexer": "ipython3",
   "version": "3.4.0"
  }
 },
 "nbformat": 4,
 "nbformat_minor": 0
}
