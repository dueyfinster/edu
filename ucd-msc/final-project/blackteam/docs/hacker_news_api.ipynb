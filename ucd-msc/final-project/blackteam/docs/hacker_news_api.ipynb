{
 "cells": [
  {
   "cell_type": "markdown",
   "metadata": {},
   "source": [
    "# Hacker News API Examples in Python 3\n",
    "#### by Neil Grogan"
   ]
  },
  {
   "cell_type": "code",
   "execution_count": 41,
   "metadata": {
    "collapsed": true
   },
   "outputs": [],
   "source": [
    "#Do imports\n",
    "import urllib.request\n",
    "import urllib.response\n",
    "from urllib.error import HTTPError\n",
    "import json"
   ]
  },
  {
   "cell_type": "code",
   "execution_count": 4,
   "metadata": {
    "collapsed": true
   },
   "outputs": [],
   "source": [
    "#Define a method to retrieve JSON\n",
    "\n",
    "def retrieve_json(url):\n",
    "    req = urllib.request.Request(url)\n",
    "    try:\n",
    "        response = urllib.request.urlopen(req).read().decode(\"utf-8\")\n",
    "    except HTTPError as e:\n",
    "        print(e)   \n",
    "    return json.loads(response)\n",
    "    "
   ]
  },
  {
   "cell_type": "markdown",
   "metadata": {},
   "source": [
    "## Example of Retrieving Top Stories"
   ]
  },
  {
   "cell_type": "code",
   "execution_count": 9,
   "metadata": {
    "collapsed": false
   },
   "outputs": [
    {
     "name": "stdout",
     "output_type": "stream",
     "text": [
      "[9732827, 9733841, 9733168, 9733930, 9730944, 9731330, 9733539, 9730570, 9731963, 9731972]\n"
     ]
    }
   ],
   "source": [
    "main_url = \"https://hacker-news.firebaseio.com/v0/topstories.json\"  \n",
    "json_data = retrieve_json(main_url)\n",
    "print(json_data[:10])"
   ]
  },
  {
   "cell_type": "markdown",
   "metadata": {},
   "source": [
    "## Example of Retrieving a Stories and displaying title"
   ]
  },
  {
   "cell_type": "code",
   "execution_count": 29,
   "metadata": {
    "collapsed": false
   },
   "outputs": [
    {
     "name": "stdout",
     "output_type": "stream",
     "text": [
      "The title of story id:  9732827  is:  From Asm.js to WebAssembly  and url is:  https://brendaneich.com/2015/06/from-asm-js-to-webassembly/ \n",
      "\n",
      "The title of story id:  9733841  is:  AT&T fined $100M after slowing down its ‘unlimited’ data  and url is:  http://www.washingtonpost.com/blogs/the-switch/wp/2015/06/17/att-just-got-hit-with-a-100-million-fine-after-slowing-down-its-unlimited-data/ \n",
      "\n",
      "The title of story id:  9733168  is:  ECMAScript 2015 Approved  and url is:  http://www.ecma-international.org/publications/standards/Ecma-262.htm \n",
      "\n",
      "The title of story id:  9733930  is:  Who Has Your Back? Government Data Requests 2015  and url is:  https://www.eff.org/who-has-your-back-government-data-requests-2015 \n",
      "\n",
      "The title of story id:  9730944  is:  Boffins reveal password-killer 0days for iOS and OS X  and url is:  http://www.theregister.co.uk/2015/06/17/apple_hosed_boffins_drop_0day_mac_ios_research_blitzkrieg/ \n",
      "\n"
     ]
    }
   ],
   "source": [
    "item_url = \"https://hacker-news.firebaseio.com/v0/item/\"\n",
    "json_suffix = \".json\"\n",
    "\n",
    "for story_id in json_data[:5]:\n",
    "    url = item_url + str(story_id) + json_suffix\n",
    "    story_data = retrieve_json(url)\n",
    "    print(\"The title of story id: \", story_id,\" is: \", story_data['title'], \" and url is: \", story_data['url'],\"\\n\")"
   ]
  },
  {
   "cell_type": "markdown",
   "metadata": {},
   "source": [
    "## Example of Retrieving user data"
   ]
  },
  {
   "cell_type": "code",
   "execution_count": 25,
   "metadata": {
    "collapsed": false
   },
   "outputs": [
    {
     "name": "stdout",
     "output_type": "stream",
     "text": [
      "The user:  dueyfinster  only has a karma score of:  3\n"
     ]
    }
   ],
   "source": [
    "user_url = \"https://hacker-news.firebaseio.com/v0/user/dueyfinster.json\"\n",
    "user_data = retrieve_json(user_url)\n",
    "print(\"The user: \", user_data['id'], \" only has a karma score of: \", user_data['karma'])"
   ]
  },
  {
   "cell_type": "markdown",
   "metadata": {},
   "source": [
    "## Example of Comment Retrieval"
   ]
  },
  {
   "cell_type": "code",
   "execution_count": null,
   "metadata": {
    "collapsed": false
   },
   "outputs": [
    {
     "name": "stdout",
     "output_type": "stream",
     "text": [
      "I think this quote speaks volumes - &quot;WebAssembly has so far been a joint effort among Google, Microsoft, Mozilla, and a few other folks.&quot;  Sometimes I think maybe, just maybe the W3C and other web standards groups finally have some wind behind their sails.<p>It may have taken a while, but with all these individuals and organizations cooperating in an open space, we may finally advance yet again into another new era of innovation for the web.<p>I am really excited about this, much like others in these comments.<p>We have been beating around the bush to have a true assembly&#x2F;development layer in the browser for a long time: Java applets, Flash, Silverlight, you name it - but no true standard that was open like Javascript is open. This component has the possibility of being the neutral ground that everyone can build on top of.<p>To the creators (Brendan Eich et. al) &amp; supporters, well done and best of luck in this endeavor.  It&#x27;s already started on the right foot (asm.js was what lead the way to this I think) - let&#x27;s hope they can keep it cooperative and open as much as possible for the benefit of everyone!\n",
      "\n",
      "Having been on one side of the perpetual (and tiresome) PNaCl-versus-asm.js debate, I&#x27;m thrilled to see a resolution. I really think this is a strategy that combines the best of both worlds. The crucial aspect is that this is polyfillable via JIT compilation to asm.js, so it&#x27;s still just JavaScript, but it has plenty of room for extensibility to support threads, SIMD, and so forth.\n",
      "\n",
      "This is enormous news. I could see a scenario where, in ~5 years, WebAssembly could provide an alternative to having to develop apps with HTML for the web, Swift for iOS, and Java for Android. Instead, you could build browser-based apps that actually delivered native performance, even for CPU- and GPU-intensive tasks.<p>Of course, there would still be UI differences required between the 3 platforms, but you would no longer need 3 separate development teams.\n"
     ]
    }
   ],
   "source": [
    "count = 0 # count to limit what we retrieve\n",
    "for story_id in json_data[:5]:\n",
    "    url = item_url + str(story_id) + json_suffix\n",
    "    story_data = retrieve_json(url)\n",
    "    for child_id in story_data['kids']:\n",
    "        child_item = retrieve_json(item_url + str(child_id) + json_suffix)\n",
    "        if child_item['type'] == 'comment' and count <=2:\n",
    "            count = count+1\n",
    "            print(child_item['text'] + \"\\n\")"
   ]
  }
 ],
 "metadata": {
  "kernelspec": {
   "display_name": "Python 3",
   "language": "python",
   "name": "python3"
  },
  "language_info": {
   "codemirror_mode": {
    "name": "ipython",
    "version": 3
   },
   "file_extension": ".py",
   "mimetype": "text/x-python",
   "name": "python",
   "nbconvert_exporter": "python",
   "pygments_lexer": "ipython3",
   "version": "3.4.0"
  }
 },
 "nbformat": 4,
 "nbformat_minor": 0
}
